{
 "cells": [
  {
   "cell_type": "code",
   "execution_count": 1,
   "id": "02900e36",
   "metadata": {},
   "outputs": [
    {
     "name": "stderr",
     "output_type": "stream",
     "text": [
      "/usr/local/lib/python3.12/dist-packages/tqdm/auto.py:21: TqdmWarning: IProgress not found. Please update jupyter and ipywidgets. See https://ipywidgets.readthedocs.io/en/stable/user_install.html\n",
      "  from .autonotebook import tqdm as notebook_tqdm\n",
      "Downloading artifacts: 100%|██████████| 16/16 [00:17<00:00,  1.10s/it]  \n"
     ]
    }
   ],
   "source": [
    "import urllib.parse\n",
    "\n",
    "import mlflow\n",
    "\n",
    "# MLFlow creds\n",
    "MLFLOW_DOMAIN = \"mlflow.gritans.lv\"\n",
    "MLFLOW_USERNAME = \"data_user\"\n",
    "MLFLOW_PASSWORD = \"ais7Rah2foo0gee9\"\n",
    "MLFLOW_TRACKING_URI = f\"https://{MLFLOW_DOMAIN}\"\n",
    "\n",
    "parsed_uri = urllib.parse.urlparse(MLFLOW_TRACKING_URI)\n",
    "auth_uri = parsed_uri._replace(\n",
    "    netloc=f\"{urllib.parse.quote(MLFLOW_USERNAME)}:{urllib.parse.quote(MLFLOW_PASSWORD)}@{parsed_uri.netloc}\"\n",
    ").geturl()\n",
    "\n",
    "mlflow.set_tracking_uri(auth_uri)\n",
    "\n",
    "\n",
    "import mlflow.pyfunc\n",
    "\n",
    "model_name = \"ircnn_ftir_fcg\"\n",
    "model_version = 17\n",
    "\n",
    "uri = f\"models:/{model_name}/{model_version}\"\n",
    "model = mlflow.pyfunc.load_model(uri)"
   ]
  },
  {
   "cell_type": "code",
   "execution_count": 2,
   "id": "8f2671c1",
   "metadata": {},
   "outputs": [],
   "source": [
    "import numpy as np\n",
    "import pandas as pd\n",
    "\n",
    "data = {\"spectrum\": np.zeros(100)}\n",
    "df = pd.DataFrame({\"spectrum\": [np.zeros(100)]})\n",
    "dict_pred = model.predict(data)\n",
    "df_pred = model.predict(df)"
   ]
  },
  {
   "cell_type": "code",
   "execution_count": null,
   "id": "f9ebd634",
   "metadata": {},
   "outputs": [
    {
     "data": {
      "text/plain": [
       "[{'positive_targets': ['alkane',\n",
       "   'alkene',\n",
       "   'nitriles',\n",
       "   'alkyl halides',\n",
       "   'carboxylic acids',\n",
       "   'nitro'],\n",
       "  'positive_probabilities': [0.5042973160743713,\n",
       "   0.5026483535766602,\n",
       "   0.5035041570663452,\n",
       "   0.5025392174720764,\n",
       "   0.501006543636322,\n",
       "   0.5045629143714905]}]"
      ]
     },
     "execution_count": 3,
     "metadata": {},
     "output_type": "execute_result"
    }
   ],
   "source": []
  },
  {
   "cell_type": "code",
   "execution_count": null,
   "id": "a349df45",
   "metadata": {},
   "outputs": [],
   "source": []
  }
 ],
 "metadata": {
  "kernelspec": {
   "display_name": "Python 3",
   "language": "python",
   "name": "python3"
  },
  "language_info": {
   "codemirror_mode": {
    "name": "ipython",
    "version": 3
   },
   "file_extension": ".py",
   "mimetype": "text/x-python",
   "name": "python",
   "nbconvert_exporter": "python",
   "pygments_lexer": "ipython3",
   "version": "3.12.3"
  }
 },
 "nbformat": 4,
 "nbformat_minor": 5
}
