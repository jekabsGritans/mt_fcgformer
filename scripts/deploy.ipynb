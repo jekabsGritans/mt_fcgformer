{
 "cells": [
  {
   "cell_type": "code",
   "execution_count": 1,
   "id": "02900e36",
   "metadata": {},
   "outputs": [
    {
     "name": "stderr",
     "output_type": "stream",
     "text": [
      "/usr/local/lib/python3.12/dist-packages/tqdm/auto.py:21: TqdmWarning: IProgress not found. Please update jupyter and ipywidgets. See https://ipywidgets.readthedocs.io/en/stable/user_install.html\n",
      "  from .autonotebook import tqdm as notebook_tqdm\n",
      "Downloading artifacts: 100%|██████████| 16/16 [00:18<00:00,  1.14s/it]  \n"
     ]
    }
   ],
   "source": [
    "import urllib.parse\n",
    "\n",
    "import mlflow\n",
    "\n",
    "# MLFlow creds\n",
    "MLFLOW_DOMAIN = \"mlflow.gritans.lv\"\n",
    "MLFLOW_USERNAME = \"data_user\"\n",
    "MLFLOW_PASSWORD = \"ais7Rah2foo0gee9\"\n",
    "MLFLOW_TRACKING_URI = f\"https://{MLFLOW_DOMAIN}\"\n",
    "\n",
    "parsed_uri = urllib.parse.urlparse(MLFLOW_TRACKING_URI)\n",
    "auth_uri = parsed_uri._replace(\n",
    "    netloc=f\"{urllib.parse.quote(MLFLOW_USERNAME)}:{urllib.parse.quote(MLFLOW_PASSWORD)}@{parsed_uri.netloc}\"\n",
    ").geturl()\n",
    "\n",
    "mlflow.set_tracking_uri(auth_uri)\n",
    "\n",
    "\n",
    "import mlflow.pyfunc\n",
    "\n",
    "model_name = \"ircnn_ftir_fcg\"\n",
    "model_version = 27\n",
    "\n",
    "uri = f\"models:/{model_name}/{model_version}\"\n",
    "model = mlflow.pyfunc.load_model(uri)"
   ]
  },
  {
   "cell_type": "code",
   "execution_count": 10,
   "id": "8f2671c1",
   "metadata": {},
   "outputs": [
    {
     "data": {
      "text/plain": [
       "[{'positive_targets': ['methyl',\n",
       "   'alcohols',\n",
       "   'amines',\n",
       "   'nitriles',\n",
       "   'aromatics',\n",
       "   'ketones',\n",
       "   'carboxylic acids',\n",
       "   'ether',\n",
       "   'amides'],\n",
       "  'positive_probabilities': [0.5018709897994995,\n",
       "   0.5005187392234802,\n",
       "   0.5029024481773376,\n",
       "   0.5015020370483398,\n",
       "   0.5004225969314575,\n",
       "   0.5000525712966919,\n",
       "   0.5045071840286255,\n",
       "   0.5061051845550537,\n",
       "   0.5010481476783752],\n",
       "  'attention': [[(720, 1035, 0.22050788589717607),\n",
       "    (1885, 1933, 0.4179283292813297),\n",
       "    (3177, 3259, 0.4284525855965303),\n",
       "    (3463, 3762, 0.3122833464852235),\n",
       "    (3970, 3996, 0.006496796490029988)],\n",
       "   [(434, 958, 0.38214693618045537),\n",
       "    (993, 1335, 0.6267702539893885),\n",
       "    (1689, 1978, 0.9434815367618948),\n",
       "    (2340, 3823, 0.2570164828595066),\n",
       "    (3864, 3936, 0.004013764034632827)],\n",
       "   [(962, 1361, 0.25716925138412805),\n",
       "    (1386, 2253, 0.5173927527695966),\n",
       "    (2611, 2870, 0.09157761041254298),\n",
       "    (2921, 3138, 0.5020057380419674),\n",
       "    (3588, 3794, 0.39879716681639477)],\n",
       "   [(613, 941, 0.28979044736185433),\n",
       "    (954, 2633, 0.5796860875538851),\n",
       "    (2993, 3536, 0.5997766407997001),\n",
       "    (3623, 3693, 0.9366745896863802),\n",
       "    (3933, 3966, 0.6310926613259402)],\n",
       "   [(401, 513, 0.041225729816931844),\n",
       "    (577, 1141, 0.035460380657612145),\n",
       "    (1530, 1871, 0.7295319535125279),\n",
       "    (1897, 3784, 0.9748072757985548),\n",
       "    (3807, 3903, 0.6453377597692235)],\n",
       "   [(1701, 1898, 0.7355640697727065),\n",
       "    (2082, 2093, 0.8683395474366902),\n",
       "    (2248, 3102, 0.3556815889492779),\n",
       "    (3642, 3835, 0.4766270911256343),\n",
       "    (3907, 3983, 0.06661557085162328)],\n",
       "   [(480, 508, 0.6648676118973829),\n",
       "    (916, 1600, 0.5736473371609816),\n",
       "    (3301, 3771, 0.2580477762461826),\n",
       "    (3932, 3954, 0.9110266652106747),\n",
       "    (3956, 3995, 0.7822337518516991)],\n",
       "   [(508, 3705, 0.7405028353039449),\n",
       "    (3723, 3894, 0.7826796713598901),\n",
       "    (3900, 3957, 0.9444848461951817),\n",
       "    (3969, 3994, 0.7728658972041912)],\n",
       "   [(475, 608, 0.3692244292663883),\n",
       "    (932, 1034, 0.18247502823053663),\n",
       "    (1446, 1705, 0.05695359810070921),\n",
       "    (1960, 3254, 0.16837988663566217),\n",
       "    (3610, 3925, 0.053903036548977656)]]}]"
      ]
     },
     "execution_count": 10,
     "metadata": {},
     "output_type": "execute_result"
    }
   ],
   "source": [
    "import numpy as np\n",
    "import pandas as pd\n",
    "\n",
    "df = pd.DataFrame({\"spectrum_x\": [np.zeros(100)], \"spectrum_y\": [np.zeros(100)]})\n",
    "df_pred = model.predict(df)\n",
    "df_pred"
   ]
  },
  {
   "cell_type": "code",
   "execution_count": null,
   "id": "a349df45",
   "metadata": {},
   "outputs": [],
   "source": []
  }
 ],
 "metadata": {
  "kernelspec": {
   "display_name": "Python 3",
   "language": "python",
   "name": "python3"
  },
  "language_info": {
   "codemirror_mode": {
    "name": "ipython",
    "version": 3
   },
   "file_extension": ".py",
   "mimetype": "text/x-python",
   "name": "python",
   "nbconvert_exporter": "python",
   "pygments_lexer": "ipython3",
   "version": "3.12.3"
  }
 },
 "nbformat": 4,
 "nbformat_minor": 5
}
