{
 "cells": [
  {
   "cell_type": "code",
   "execution_count": 1,
   "id": "a19ea4fc",
   "metadata": {},
   "outputs": [],
   "source": [
    "from vastai_sdk import VastAI\n",
    "import os\n",
    "from dotenv import load_dotenv\n",
    "load_dotenv()\n",
    "api_key = os.getenv(\"VASTAI_API_KEY\")\n",
    "vast = VastAI(api_key=api_key)"
   ]
  },
  {
   "cell_type": "code",
   "execution_count": 3,
   "id": "96206f1d",
   "metadata": {},
   "outputs": [
    {
     "name": "stdout",
     "output_type": "stream",
     "text": [
      "Help on method search_offers in module vastai_sdk.vastai_sdk:\n",
      "\n",
      "search_offers(query: Any = None, *, type: Any = 'on-demand', no_default: Any = False, new: Any = False, limit: int = None, disable_bundling: Any = False, storage: float = 5.0, order: str = 'score-') method of vastai_sdk.vastai_sdk.VastAI instance\n",
      "    Creates a query based on search parameters as in the examples above.\n",
      "    \n",
      "    Query syntax:\n",
      "    \n",
      "        query = comparison comparison...\n",
      "        comparison = field op value\n",
      "        field = <name of a field>\n",
      "        op = one of: <, <=, ==, !=, >=, >, in, notin\n",
      "        value = <bool, int, float, string> | 'any' | [value0, value1, ...]\n",
      "        bool: True, False\n",
      "    \n",
      "    note: to pass '>' and '<' on the command line, make sure to use quotes\n",
      "    note: to encode a string query value (ie for gpu_name), replace any spaces ' ' with underscore '_'\n",
      "    \n",
      "    Args:\n",
      "            query (Any): Query to search for. default: 'external=false rentable=true verified=true', pass -n to ignore default\n",
      "            type (Any): Show 'on-demand', 'reserved', or 'bid'(interruptible) pricing. default: on-demand\n",
      "                    Default is on-demand.\n",
      "            no_default (Any): Disable default query\n",
      "                    Default is False.\n",
      "            new (Any): New search exp\n",
      "                    Default is False.\n",
      "            limit (int): No description\n",
      "            disable_bundling (Any): Deprecated\n",
      "                    Default is False.\n",
      "            storage (float): Amount of storage to use for pricing, in GiB. default=5.0GiB\n",
      "                    Default is 5.0.\n",
      "            order (str): Comma-separated list of fields to sort on. postfix field with - to sort desc. ex: -o 'num_gpus,total_flops-'.  default='score-'\n",
      "                    Default is score-.\n",
      "\n",
      "None\n"
     ]
    }
   ],
   "source": [
    "# print(help(vast.create_instance))\n",
    "print(help(vast.search_offers))"
   ]
  },
  {
   "cell_type": "code",
   "execution_count": 5,
   "id": "1fda108a",
   "metadata": {},
   "outputs": [],
   "source": [
    "offers = vast.search_offers(query='cuda_vers>=12.8 gpu_name=RTX_3090 num_gpus=1')\n"
   ]
  },
  {
   "cell_type": "code",
   "execution_count": 8,
   "id": "57fc43ce",
   "metadata": {},
   "outputs": [
    {
     "data": {
      "text/plain": [
       "{'id': 17618588,\n",
       " 'ask_contract_id': 17618588,\n",
       " 'bundle_id': 1848537947,\n",
       " 'bundled_results': None,\n",
       " 'bw_nvlink': 0.0,\n",
       " 'compute_cap': 900,\n",
       " 'cpu_arch': 'amd64',\n",
       " 'cpu_cores': 224,\n",
       " 'cpu_cores_effective': 32.0,\n",
       " 'cpu_ghz': 3.762988,\n",
       " 'cpu_name': 'AMD EPYC 9554 64-Core Processor',\n",
       " 'cpu_ram': 221112,\n",
       " 'credit_discount_max': 0.0,\n",
       " 'cuda_max_good': 12.2,\n",
       " 'direct_port_count': 1428,\n",
       " 'disk_bw': 4291.8,\n",
       " 'disk_name': 'SAMSUNG MZQL27T6HBLA-00A07',\n",
       " 'disk_space': 519.5626681951807,\n",
       " 'dlperf': 345.71744352155815,\n",
       " 'dlperf_per_dphtotal': 191.9467607460841,\n",
       " 'dph_base': 1.8,\n",
       " 'dph_total': 1.801111111111111,\n",
       " 'driver_version': '535.230.02',\n",
       " 'driver_vers': 535230002,\n",
       " 'duration': 2237618.64356184,\n",
       " 'end_date': 1751877947.0,\n",
       " 'external': None,\n",
       " 'flops_per_dphtotal': 29.7186151758174,\n",
       " 'geolocation': 'France, FR',\n",
       " 'geolocode': 1109525496,\n",
       " 'gpu_arch': 'nvidia',\n",
       " 'gpu_display_active': False,\n",
       " 'gpu_frac': 0.14285714285714285,\n",
       " 'gpu_ids': [116253],\n",
       " 'gpu_lanes': 16,\n",
       " 'gpu_mem_bw': 2506.8,\n",
       " 'gpu_name': 'H100 SXM',\n",
       " 'gpu_ram': 81559,\n",
       " 'gpu_total_ram': 81559,\n",
       " 'gpu_max_power': 700.0,\n",
       " 'gpu_max_temp': 55.0,\n",
       " 'has_avx': 1,\n",
       " 'host_id': 68137,\n",
       " 'hosting_type': 1,\n",
       " 'hostname': None,\n",
       " 'inet_down': 8042.4,\n",
       " 'inet_down_cost': 2.6041666666666666e-06,\n",
       " 'inet_up': 7342.4,\n",
       " 'inet_up_cost': 3.90625e-06,\n",
       " 'is_bid': False,\n",
       " 'logo': '/static/logos/vastai_small2.png',\n",
       " 'machine_id': 33035,\n",
       " 'min_bid': 1.8,\n",
       " 'mobo_name': 'K14PN-D24 Series',\n",
       " 'num_gpus': 1,\n",
       " 'os_version': '22.04',\n",
       " 'pci_gen': 5.0,\n",
       " 'pcie_bw': 54.9,\n",
       " 'public_ipaddr': '149.7.4.9',\n",
       " 'reliability': 0.9983415,\n",
       " 'reliability_mult': 0.9836798,\n",
       " 'rentable': True,\n",
       " 'rented': False,\n",
       " 'score': 365.332459622053,\n",
       " 'start_date': 1749636690.472611,\n",
       " 'static_ip': True,\n",
       " 'storage_cost': 0.16000000000000003,\n",
       " 'storage_total_cost': 0.0011111111111111113,\n",
       " 'total_flops': 53.526528000000006,\n",
       " 'verification': 'verified',\n",
       " 'vericode': 1,\n",
       " 'vram_costperhour': 0.02259959048051104,\n",
       " 'webpage': None,\n",
       " 'vms_enabled': False,\n",
       " 'expected_reliability': 0.0,\n",
       " 'is_vm_deverified': False,\n",
       " 'resource_type': 'gpu',\n",
       " 'cluster_id': None,\n",
       " 'rn': 1,\n",
       " 'dph_total_adj': 1.8011143663194444,\n",
       " 'reliability2': 0.9983415,\n",
       " 'discount_rate': 0.0,\n",
       " 'discounted_hourly': 0.0,\n",
       " 'discounted_dph_total': 1.801111111111111,\n",
       " 'search': {'gpuCostPerHour': 1.8,\n",
       "  'diskHour': 0.0011111111111111113,\n",
       "  'totalHour': 1.801111111111111,\n",
       "  'discountTotalHour': 0,\n",
       "  'discountedTotalPerHour': 1.801111111111111},\n",
       " 'instance': {'gpuCostPerHour': 0,\n",
       "  'diskHour': 0.0011111111111111113,\n",
       "  'totalHour': 0.0011111111111111113,\n",
       "  'discountTotalHour': 0,\n",
       "  'discountedTotalPerHour': 0.0011111111111111113},\n",
       " 'time_remaining': '',\n",
       " 'time_remaining_isbid': '',\n",
       " 'internet_up_cost_per_tb': 0.004,\n",
       " 'internet_down_cost_per_tb': 0.0026666666666666666,\n",
       " 'datacenter': True}"
      ]
     },
     "execution_count": 8,
     "metadata": {},
     "output_type": "execute_result"
    }
   ],
   "source": [
    "offers[0]"
   ]
  },
  {
   "cell_type": "code",
   "execution_count": 12,
   "id": "ee3fa8a1",
   "metadata": {},
   "outputs": [
    {
     "ename": "HTTPError",
     "evalue": "404 Client Error: Not Found for url: https://console.vast.ai/api/v0/asks/34742/?api_key=72cc3e3103e6a5c8589397b4a953a1128e3033c03e36348b8d1446c1a17362b2",
     "output_type": "error",
     "traceback": [
      "\u001b[0;31m---------------------------------------------------------------------------\u001b[0m",
      "\u001b[0;31mHTTPError\u001b[0m                                 Traceback (most recent call last)",
      "Cell \u001b[0;32mIn[12], line 1\u001b[0m\n\u001b[0;32m----> 1\u001b[0m \u001b[43mvast\u001b[49m\u001b[38;5;241;43m.\u001b[39;49m\u001b[43mcreate_instance\u001b[49m\u001b[43m(\u001b[49m\n\u001b[1;32m      2\u001b[0m \u001b[43m    \u001b[49m\u001b[38;5;28;43mid\u001b[39;49m\u001b[38;5;241;43m=\u001b[39;49m\u001b[38;5;124;43m\"\u001b[39;49m\u001b[38;5;124;43m34742\u001b[39;49m\u001b[38;5;124;43m\"\u001b[39;49m\u001b[43m,\u001b[49m\n\u001b[1;32m      3\u001b[0m \u001b[43m    \u001b[49m\u001b[43mtemplate_hash\u001b[49m\u001b[38;5;241;43m=\u001b[39;49m\u001b[38;5;124;43m\"\u001b[39;49m\u001b[38;5;124;43m5b8eb46a534ba1143236226b7dd2acdf\u001b[39;49m\u001b[38;5;124;43m\"\u001b[39;49m\u001b[43m,\u001b[49m\n\u001b[1;32m      4\u001b[0m \u001b[43m    \u001b[49m\u001b[43mdisk\u001b[49m\u001b[38;5;241;43m=\u001b[39;49m\u001b[38;5;241;43m20\u001b[39;49m\u001b[43m,\u001b[49m\n\u001b[1;32m      5\u001b[0m \u001b[43m    \u001b[49m\u001b[43margs\u001b[49m\u001b[38;5;241;43m=\u001b[39;49m\u001b[43m[\u001b[49m\n\u001b[1;32m      6\u001b[0m \u001b[43m        \u001b[49m\u001b[38;5;124;43m\"\u001b[39;49m\u001b[38;5;124;43mmode=train\u001b[39;49m\u001b[38;5;124;43m\"\u001b[39;49m\u001b[43m,\u001b[49m\n\u001b[1;32m      7\u001b[0m \u001b[43m        \u001b[49m\u001b[38;5;124;43m\"\u001b[39;49m\u001b[38;5;124;43mdevice=cuda:0\u001b[39;49m\u001b[38;5;124;43m\"\u001b[39;49m\u001b[43m,\u001b[49m\u001b[43m \u001b[49m\n\u001b[1;32m      8\u001b[0m \u001b[43m        \u001b[49m\u001b[38;5;124;43m\"\u001b[39;49m\u001b[38;5;124;43mexperiment_name=train_nist\u001b[39;49m\u001b[38;5;124;43m\"\u001b[39;49m\u001b[43m,\u001b[49m\n\u001b[1;32m      9\u001b[0m \u001b[43m        \u001b[49m\u001b[38;5;124;43m\"\u001b[39;49m\u001b[38;5;124;43mdataset_id=fb3df43da2284161aee9f043a1a4ab33\u001b[39;49m\u001b[38;5;124;43m\"\u001b[39;49m\u001b[43m,\u001b[49m\n\u001b[1;32m     10\u001b[0m \u001b[43m        \u001b[49m\u001b[38;5;124;43m\"\u001b[39;49m\u001b[38;5;124;43mmodel=fcgformer\u001b[39;49m\u001b[38;5;124;43m\"\u001b[39;49m\n\u001b[1;32m     11\u001b[0m \u001b[43m    \u001b[49m\u001b[43m]\u001b[49m\n\u001b[1;32m     12\u001b[0m \n\u001b[1;32m     13\u001b[0m \u001b[43m)\u001b[49m\n",
      "File \u001b[0;32m~/miniconda3/envs/ml/lib/python3.10/site-packages/vastai_sdk/vastai_sdk.py:305\u001b[0m, in \u001b[0;36mVastAI.create_wrapper.<locals>.wrapper\u001b[0;34m(self, **kwargs)\u001b[0m\n\u001b[1;32m    302\u001b[0m     out_o \u001b[38;5;241m=\u001b[39m sys\u001b[38;5;241m.\u001b[39mstdout\n\u001b[1;32m    303\u001b[0m     sys\u001b[38;5;241m.\u001b[39mstdout \u001b[38;5;241m=\u001b[39m out_b\n\u001b[0;32m--> 305\u001b[0m res \u001b[38;5;241m=\u001b[39m \u001b[43mfunc\u001b[49m\u001b[43m(\u001b[49m\u001b[43margs\u001b[49m\u001b[43m)\u001b[49m \n\u001b[1;32m    307\u001b[0m \u001b[38;5;28;01mif\u001b[39;00m \u001b[38;5;129;01mnot\u001b[39;00m logger\u001b[38;5;241m.\u001b[39misEnabledFor(logging\u001b[38;5;241m.\u001b[39mDEBUG):\n\u001b[1;32m    308\u001b[0m     sys\u001b[38;5;241m.\u001b[39mstdout \u001b[38;5;241m=\u001b[39m out_o\n",
      "File \u001b[0;32m~/miniconda3/envs/ml/lib/python3.10/site-packages/vastai_sdk/vast.py:1822\u001b[0m, in \u001b[0;36mcreate__instance\u001b[0;34m(args)\u001b[0m\n\u001b[1;32m   1820\u001b[0m     \u001b[38;5;28mprint\u001b[39m(json_blob)\n\u001b[1;32m   1821\u001b[0m r \u001b[38;5;241m=\u001b[39m http_put(args, url,  headers\u001b[38;5;241m=\u001b[39mheaders,json\u001b[38;5;241m=\u001b[39mjson_blob)\n\u001b[0;32m-> 1822\u001b[0m \u001b[43mr\u001b[49m\u001b[38;5;241;43m.\u001b[39;49m\u001b[43mraise_for_status\u001b[49m\u001b[43m(\u001b[49m\u001b[43m)\u001b[49m\n\u001b[1;32m   1823\u001b[0m \u001b[38;5;28;01mif\u001b[39;00m args\u001b[38;5;241m.\u001b[39mraw:\n\u001b[1;32m   1824\u001b[0m     \u001b[38;5;28;01mreturn\u001b[39;00m r\n",
      "File \u001b[0;32m~/miniconda3/envs/ml/lib/python3.10/site-packages/requests/models.py:1024\u001b[0m, in \u001b[0;36mResponse.raise_for_status\u001b[0;34m(self)\u001b[0m\n\u001b[1;32m   1019\u001b[0m     http_error_msg \u001b[38;5;241m=\u001b[39m (\n\u001b[1;32m   1020\u001b[0m         \u001b[38;5;124mf\u001b[39m\u001b[38;5;124m\"\u001b[39m\u001b[38;5;132;01m{\u001b[39;00m\u001b[38;5;28mself\u001b[39m\u001b[38;5;241m.\u001b[39mstatus_code\u001b[38;5;132;01m}\u001b[39;00m\u001b[38;5;124m Server Error: \u001b[39m\u001b[38;5;132;01m{\u001b[39;00mreason\u001b[38;5;132;01m}\u001b[39;00m\u001b[38;5;124m for url: \u001b[39m\u001b[38;5;132;01m{\u001b[39;00m\u001b[38;5;28mself\u001b[39m\u001b[38;5;241m.\u001b[39murl\u001b[38;5;132;01m}\u001b[39;00m\u001b[38;5;124m\"\u001b[39m\n\u001b[1;32m   1021\u001b[0m     )\n\u001b[1;32m   1023\u001b[0m \u001b[38;5;28;01mif\u001b[39;00m http_error_msg:\n\u001b[0;32m-> 1024\u001b[0m     \u001b[38;5;28;01mraise\u001b[39;00m HTTPError(http_error_msg, response\u001b[38;5;241m=\u001b[39m\u001b[38;5;28mself\u001b[39m)\n",
      "\u001b[0;31mHTTPError\u001b[0m: 404 Client Error: Not Found for url: https://console.vast.ai/api/v0/asks/34742/?api_key=72cc3e3103e6a5c8589397b4a953a1128e3033c03e36348b8d1446c1a17362b2"
     ]
    }
   ],
   "source": [
    "vast.create_instance(\n",
    "    id=\"34742\",\n",
    "    template_hash=\"5b8eb46a534ba1143236226b7dd2acdf\",\n",
    "    disk=20,\n",
    "    args=[\n",
    "        \"mode=train\",\n",
    "        \"device=cuda:0\", \n",
    "        \"experiment_name=train_nist\",\n",
    "        \"dataset_id=fb3df43da2284161aee9f043a1a4ab33\",\n",
    "        \"model=fcgformer\"\n",
    "    ]\n",
    "\n",
    ")"
   ]
  },
  {
   "cell_type": "code",
   "execution_count": null,
   "id": "bf16f783",
   "metadata": {},
   "outputs": [],
   "source": [
    "# Example using the vastai Python client\n",
    "\n",
    "\n",
    "\n",
    "# 1. Search for an instance with 3090 GPU\n",
    "# instance = vast.launch_instance(\n",
    "#     gpu_name=\"RTX_3090\",\n",
    "#     num_gpus='1',\n",
    "#     image=\"jekabsgr/cbl-train:latest\",\n",
    "#     template_hash=\"5b8eb46a534ba1143236226b7dd2acdf\",\n",
    "#     disk=20,\n",
    "#     args=[\n",
    "#         \"mode=train\",\n",
    "#         \"device=cuda:0\", \n",
    "#         \"experiment_name=train_nist\",\n",
    "#         \"dataset_id=fb3df43da2284161aee9f043a1a4ab33\",\n",
    "#         \"model=fcgformer\"\n",
    "#     ]\n",
    "# )\n"
   ]
  },
  {
   "cell_type": "code",
   "execution_count": 1,
   "id": "e978c5c7",
   "metadata": {},
   "outputs": [
    {
     "data": {
      "text/plain": [
       "'\\nDataset evaluation.\\n\\nWe fix hyperparameters, train the model on\\n1.) NIST\\n2.) NIST + aux objectives from RDK\\n3.) NIST + LSER augmentation\\n\\nto see how much aux objectives / LSER help.\\n'"
      ]
     },
     "execution_count": 1,
     "metadata": {},
     "output_type": "execute_result"
    }
   ],
   "source": [
    "\"\"\"\n",
    "Dataset evaluation.\n",
    "\n",
    "We fix hyperparameters, train the model on\n",
    "1.) NIST\n",
    "2.) NIST + aux objectives from RDK\n",
    "3.) NIST + LSER augmentation\n",
    "\n",
    "to see how much aux objectives / LSER help.\n",
    "\"\"\"\n",
    "# TODO"
   ]
  },
  {
   "cell_type": "code",
   "execution_count": null,
   "id": "64cf4b04",
   "metadata": {},
   "outputs": [],
   "source": [
    "\"\"\"\n",
    "Hyperparameter search.\n",
    "\n",
    "We train the model on NIST + CHEMMOTION + LSER + aux objectives.\n",
    "We fix the dataset and search for the best hyperparameters\n",
    "\"\"\"\n",
    "# TODO"
   ]
  }
 ],
 "metadata": {
  "kernelspec": {
   "display_name": "ml",
   "language": "python",
   "name": "python3"
  },
  "language_info": {
   "codemirror_mode": {
    "name": "ipython",
    "version": 3
   },
   "file_extension": ".py",
   "mimetype": "text/x-python",
   "name": "python",
   "nbconvert_exporter": "python",
   "pygments_lexer": "ipython3",
   "version": "3.10.18"
  }
 },
 "nbformat": 4,
 "nbformat_minor": 5
}
